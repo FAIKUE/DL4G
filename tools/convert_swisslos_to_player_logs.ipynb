{
 "cells": [
  {
   "cell_type": "markdown",
   "metadata": {},
   "source": [
    "**NOTE**<br>\n",
    "The Jass Kit has to be installed with the following command:<br>\n",
    "python -m pip install -e PATH_TO_JASS_KIT<br>\n",
    "<br>\n",
    "or<br>\n",
    "<br>\n",
    "change directory to the jass kit, then<br>\n",
    "python -m pip install -e .<br>\n",
    "<br>\n",
    "<br>\n",
    "You have to install the jass kit in the python destribution used in your jupyter notebook, if you use anaconda, this can be done with anaconda prompt<br>\n",
    "**The kernel has to be restarted after installing the jass kit**"
   ]
  },
  {
   "cell_type": "code",
   "execution_count": 2,
   "metadata": {},
   "outputs": [],
   "source": [
    "from player_round_log_generator import PlayerRoundLogGenerator"
   ]
  },
  {
   "cell_type": "markdown",
   "metadata": {},
   "source": [
    "## Convert single log"
   ]
  },
  {
   "cell_type": "code",
   "execution_count": 13,
   "metadata": {},
   "outputs": [],
   "source": [
    "source_path = \"./folder_swisslos_logs/small_log.txt\"\n",
    "destination_path = \"results/\"\n",
    "search_directory = False\n",
    "search_recursively = False\n",
    "create_cheating_logs = False"
   ]
  },
  {
   "cell_type": "code",
   "execution_count": 14,
   "metadata": {},
   "outputs": [],
   "source": [
    "log_generator = PlayerRoundLogGenerator(source_path, destination_path, search_directory,\n",
    "                                     search_recursively, create_cheating_logs)"
   ]
  },
  {
   "cell_type": "code",
   "execution_count": 15,
   "metadata": {},
   "outputs": [
    {
     "name": "stderr",
     "output_type": "stream",
     "text": [
      "Warning: no trump found in entry: {'dealer': 3, 'tricks': [], 'player': [{'hand': ['DJ', 'D7', 'DQ', 'HJ', 'S6', 'S10', 'CA', 'D10', 'S7']}, {'hand': ['SK', 'SJ', 'S9', 'CQ', 'SQ', 'HA', 'D8', 'CJ', 'HK']}, {'hand': ['SA', 'C10', 'DK', 'H6', 'S8', 'H9', 'C9', 'H10', 'C6']}, {'hand': ['H8', 'C8', 'H7', 'DA', 'CK', 'C7', 'D9', 'HQ', 'D6']}], 'jassTyp': 'SCHIEBER_2500'}\n"
     ]
    }
   ],
   "source": [
    "log_generator.generate()"
   ]
  },
  {
   "cell_type": "markdown",
   "metadata": {},
   "source": [
    "## Convert folder"
   ]
  },
  {
   "cell_type": "code",
   "execution_count": 16,
   "metadata": {},
   "outputs": [],
   "source": [
    "source_path = \"./folder_swisslos_logs/\"\n",
    "destination_path = \"results/\"\n",
    "search_directory = True\n",
    "search_recursively = False\n",
    "create_cheating_logs = False"
   ]
  },
  {
   "cell_type": "code",
   "execution_count": 17,
   "metadata": {},
   "outputs": [],
   "source": [
    "log_generator = PlayerRoundLogGenerator(source_path, destination_path, search_directory,\n",
    "                                     search_recursively, create_cheating_logs)"
   ]
  },
  {
   "cell_type": "code",
   "execution_count": 18,
   "metadata": {},
   "outputs": [
    {
     "name": "stderr",
     "output_type": "stream",
     "text": [
      "Warning: no trump found in entry: {'dealer': 3, 'tricks': [], 'player': [{'hand': ['DJ', 'D7', 'DQ', 'HJ', 'S6', 'S10', 'CA', 'D10', 'S7']}, {'hand': ['SK', 'SJ', 'S9', 'CQ', 'SQ', 'HA', 'D8', 'CJ', 'HK']}, {'hand': ['SA', 'C10', 'DK', 'H6', 'S8', 'H9', 'C9', 'H10', 'C6']}, {'hand': ['H8', 'C8', 'H7', 'DA', 'CK', 'C7', 'D9', 'HQ', 'D6']}], 'jassTyp': 'SCHIEBER_2500'}\n"
     ]
    },
    {
     "name": "stdout",
     "output_type": "stream",
     "text": [
      "###################################################################################\n",
      "converting file C:\\Users\\Cyrille\\Documents\\abiz\\jass-kit\\tools\\./folder_swisslos_logs\\small_log.txt (1/3)\n",
      "###################################################################################\n"
     ]
    },
    {
     "name": "stderr",
     "output_type": "stream",
     "text": [
      "Warning: no trump found in entry: {'dealer': 3, 'tricks': [], 'player': [{'hand': ['DJ', 'D7', 'DQ', 'HJ', 'S6', 'S10', 'CA', 'D10', 'S7']}, {'hand': ['SK', 'SJ', 'S9', 'CQ', 'SQ', 'HA', 'D8', 'CJ', 'HK']}, {'hand': ['SA', 'C10', 'DK', 'H6', 'S8', 'H9', 'C9', 'H10', 'C6']}, {'hand': ['H8', 'C8', 'H7', 'DA', 'CK', 'C7', 'D9', 'HQ', 'D6']}], 'jassTyp': 'SCHIEBER_2500'}\n"
     ]
    },
    {
     "name": "stdout",
     "output_type": "stream",
     "text": [
      "###################################################################################\n",
      "converting file C:\\Users\\Cyrille\\Documents\\abiz\\jass-kit\\tools\\./folder_swisslos_logs\\small_log2.txt (2/3)\n",
      "###################################################################################\n"
     ]
    },
    {
     "name": "stderr",
     "output_type": "stream",
     "text": [
      "Warning: no trump found in entry: {'dealer': 3, 'tricks': [], 'player': [{'hand': ['DJ', 'D7', 'DQ', 'HJ', 'S6', 'S10', 'CA', 'D10', 'S7']}, {'hand': ['SK', 'SJ', 'S9', 'CQ', 'SQ', 'HA', 'D8', 'CJ', 'HK']}, {'hand': ['SA', 'C10', 'DK', 'H6', 'S8', 'H9', 'C9', 'H10', 'C6']}, {'hand': ['H8', 'C8', 'H7', 'DA', 'CK', 'C7', 'D9', 'HQ', 'D6']}], 'jassTyp': 'SCHIEBER_2500'}\n"
     ]
    },
    {
     "name": "stdout",
     "output_type": "stream",
     "text": [
      "###################################################################################\n",
      "converting file C:\\Users\\Cyrille\\Documents\\abiz\\jass-kit\\tools\\./folder_swisslos_logs\\small_log3.txt (3/3)\n",
      "###################################################################################\n"
     ]
    }
   ],
   "source": [
    "log_generator.generate()"
   ]
  },
  {
   "cell_type": "markdown",
   "metadata": {},
   "source": [
    "## Convert folder with all subfolders"
   ]
  },
  {
   "cell_type": "code",
   "execution_count": 26,
   "metadata": {},
   "outputs": [],
   "source": [
    "source_path = \"./folder_swisslos_logs/\"\n",
    "destination_path = \"results/\"\n",
    "search_directory = False # does not matter if search_recursively is true\n",
    "search_recursively = True\n",
    "create_cheating_logs = False"
   ]
  },
  {
   "cell_type": "code",
   "execution_count": 27,
   "metadata": {},
   "outputs": [],
   "source": [
    "log_generator = PlayerRoundLogGenerator(source_path, destination_path, search_directory,\n",
    "                                     search_recursively, create_cheating_logs)"
   ]
  },
  {
   "cell_type": "code",
   "execution_count": 28,
   "metadata": {},
   "outputs": [
    {
     "name": "stderr",
     "output_type": "stream",
     "text": [
      "Warning: no trump found in entry: {'dealer': 3, 'tricks': [], 'player': [{'hand': ['DJ', 'D7', 'DQ', 'HJ', 'S6', 'S10', 'CA', 'D10', 'S7']}, {'hand': ['SK', 'SJ', 'S9', 'CQ', 'SQ', 'HA', 'D8', 'CJ', 'HK']}, {'hand': ['SA', 'C10', 'DK', 'H6', 'S8', 'H9', 'C9', 'H10', 'C6']}, {'hand': ['H8', 'C8', 'H7', 'DA', 'CK', 'C7', 'D9', 'HQ', 'D6']}], 'jassTyp': 'SCHIEBER_2500'}\n"
     ]
    },
    {
     "name": "stdout",
     "output_type": "stream",
     "text": [
      "converting directory (1/3)\n",
      "###################################################################################\n",
      "converting file C:\\Users\\Cyrille\\Documents\\abiz\\jass-kit\\tools\\./folder_swisslos_logs\\small_log.txt (1/3)\n",
      "###################################################################################\n"
     ]
    },
    {
     "name": "stderr",
     "output_type": "stream",
     "text": [
      "Warning: no trump found in entry: {'dealer': 3, 'tricks': [], 'player': [{'hand': ['DJ', 'D7', 'DQ', 'HJ', 'S6', 'S10', 'CA', 'D10', 'S7']}, {'hand': ['SK', 'SJ', 'S9', 'CQ', 'SQ', 'HA', 'D8', 'CJ', 'HK']}, {'hand': ['SA', 'C10', 'DK', 'H6', 'S8', 'H9', 'C9', 'H10', 'C6']}, {'hand': ['H8', 'C8', 'H7', 'DA', 'CK', 'C7', 'D9', 'HQ', 'D6']}], 'jassTyp': 'SCHIEBER_2500'}\n",
      "Warning: no trump found in entry: {'dealer': 3, 'tricks': [], 'player': [{'hand': ['DJ', 'D7', 'DQ', 'HJ', 'S6', 'S10', 'CA', 'D10', 'S7']}, {'hand': ['SK', 'SJ', 'S9', 'CQ', 'SQ', 'HA', 'D8', 'CJ', 'HK']}, {'hand': ['SA', 'C10', 'DK', 'H6', 'S8', 'H9', 'C9', 'H10', 'C6']}, {'hand': ['H8', 'C8', 'H7', 'DA', 'CK', 'C7', 'D9', 'HQ', 'D6']}], 'jassTyp': 'SCHIEBER_2500'}\n"
     ]
    },
    {
     "name": "stdout",
     "output_type": "stream",
     "text": [
      "###################################################################################\n",
      "converting file C:\\Users\\Cyrille\\Documents\\abiz\\jass-kit\\tools\\./folder_swisslos_logs\\small_log2.txt (2/3)\n",
      "###################################################################################\n",
      "###################################################################################\n",
      "converting file C:\\Users\\Cyrille\\Documents\\abiz\\jass-kit\\tools\\./folder_swisslos_logs\\small_log3.txt (3/3)\n",
      "###################################################################################\n"
     ]
    },
    {
     "name": "stderr",
     "output_type": "stream",
     "text": [
      "Warning: no trump found in entry: {'dealer': 3, 'tricks': [], 'player': [{'hand': ['DJ', 'D7', 'DQ', 'HJ', 'S6', 'S10', 'CA', 'D10', 'S7']}, {'hand': ['SK', 'SJ', 'S9', 'CQ', 'SQ', 'HA', 'D8', 'CJ', 'HK']}, {'hand': ['SA', 'C10', 'DK', 'H6', 'S8', 'H9', 'C9', 'H10', 'C6']}, {'hand': ['H8', 'C8', 'H7', 'DA', 'CK', 'C7', 'D9', 'HQ', 'D6']}], 'jassTyp': 'SCHIEBER_2500'}\n"
     ]
    },
    {
     "name": "stdout",
     "output_type": "stream",
     "text": [
      "converting directory (2/3)\n",
      "###################################################################################\n",
      "converting file C:\\Users\\Cyrille\\Documents\\abiz\\jass-kit\\tools\\./folder_swisslos_logs/folder_swisslos_logs1\\small_log.txt (1/3)\n",
      "###################################################################################\n"
     ]
    },
    {
     "name": "stderr",
     "output_type": "stream",
     "text": [
      "Warning: no trump found in entry: {'dealer': 3, 'tricks': [], 'player': [{'hand': ['DJ', 'D7', 'DQ', 'HJ', 'S6', 'S10', 'CA', 'D10', 'S7']}, {'hand': ['SK', 'SJ', 'S9', 'CQ', 'SQ', 'HA', 'D8', 'CJ', 'HK']}, {'hand': ['SA', 'C10', 'DK', 'H6', 'S8', 'H9', 'C9', 'H10', 'C6']}, {'hand': ['H8', 'C8', 'H7', 'DA', 'CK', 'C7', 'D9', 'HQ', 'D6']}], 'jassTyp': 'SCHIEBER_2500'}\n"
     ]
    },
    {
     "name": "stdout",
     "output_type": "stream",
     "text": [
      "###################################################################################\n",
      "converting file C:\\Users\\Cyrille\\Documents\\abiz\\jass-kit\\tools\\./folder_swisslos_logs/folder_swisslos_logs1\\small_log2.txt (2/3)\n",
      "###################################################################################\n"
     ]
    },
    {
     "name": "stderr",
     "output_type": "stream",
     "text": [
      "Warning: no trump found in entry: {'dealer': 3, 'tricks': [], 'player': [{'hand': ['DJ', 'D7', 'DQ', 'HJ', 'S6', 'S10', 'CA', 'D10', 'S7']}, {'hand': ['SK', 'SJ', 'S9', 'CQ', 'SQ', 'HA', 'D8', 'CJ', 'HK']}, {'hand': ['SA', 'C10', 'DK', 'H6', 'S8', 'H9', 'C9', 'H10', 'C6']}, {'hand': ['H8', 'C8', 'H7', 'DA', 'CK', 'C7', 'D9', 'HQ', 'D6']}], 'jassTyp': 'SCHIEBER_2500'}\n"
     ]
    },
    {
     "name": "stdout",
     "output_type": "stream",
     "text": [
      "###################################################################################\n",
      "converting file C:\\Users\\Cyrille\\Documents\\abiz\\jass-kit\\tools\\./folder_swisslos_logs/folder_swisslos_logs1\\small_log3.txt (3/3)\n",
      "###################################################################################\n"
     ]
    },
    {
     "name": "stderr",
     "output_type": "stream",
     "text": [
      "Warning: no trump found in entry: {'dealer': 3, 'tricks': [], 'player': [{'hand': ['DJ', 'D7', 'DQ', 'HJ', 'S6', 'S10', 'CA', 'D10', 'S7']}, {'hand': ['SK', 'SJ', 'S9', 'CQ', 'SQ', 'HA', 'D8', 'CJ', 'HK']}, {'hand': ['SA', 'C10', 'DK', 'H6', 'S8', 'H9', 'C9', 'H10', 'C6']}, {'hand': ['H8', 'C8', 'H7', 'DA', 'CK', 'C7', 'D9', 'HQ', 'D6']}], 'jassTyp': 'SCHIEBER_2500'}\n"
     ]
    },
    {
     "name": "stdout",
     "output_type": "stream",
     "text": [
      "converting directory (3/3)\n",
      "###################################################################################\n",
      "converting file C:\\Users\\Cyrille\\Documents\\abiz\\jass-kit\\tools\\./folder_swisslos_logs/folder_swisslos_logs2\\small_log.txt (1/3)\n",
      "###################################################################################\n"
     ]
    },
    {
     "name": "stderr",
     "output_type": "stream",
     "text": [
      "Warning: no trump found in entry: {'dealer': 3, 'tricks': [], 'player': [{'hand': ['DJ', 'D7', 'DQ', 'HJ', 'S6', 'S10', 'CA', 'D10', 'S7']}, {'hand': ['SK', 'SJ', 'S9', 'CQ', 'SQ', 'HA', 'D8', 'CJ', 'HK']}, {'hand': ['SA', 'C10', 'DK', 'H6', 'S8', 'H9', 'C9', 'H10', 'C6']}, {'hand': ['H8', 'C8', 'H7', 'DA', 'CK', 'C7', 'D9', 'HQ', 'D6']}], 'jassTyp': 'SCHIEBER_2500'}\n"
     ]
    },
    {
     "name": "stdout",
     "output_type": "stream",
     "text": [
      "###################################################################################\n",
      "converting file C:\\Users\\Cyrille\\Documents\\abiz\\jass-kit\\tools\\./folder_swisslos_logs/folder_swisslos_logs2\\small_log2.txt (2/3)\n",
      "###################################################################################\n",
      "###################################################################################\n",
      "converting file C:\\Users\\Cyrille\\Documents\\abiz\\jass-kit\\tools\\./folder_swisslos_logs/folder_swisslos_logs2\\small_log3.txt (3/3)\n",
      "###################################################################################\n"
     ]
    },
    {
     "name": "stderr",
     "output_type": "stream",
     "text": [
      "Warning: no trump found in entry: {'dealer': 3, 'tricks': [], 'player': [{'hand': ['DJ', 'D7', 'DQ', 'HJ', 'S6', 'S10', 'CA', 'D10', 'S7']}, {'hand': ['SK', 'SJ', 'S9', 'CQ', 'SQ', 'HA', 'D8', 'CJ', 'HK']}, {'hand': ['SA', 'C10', 'DK', 'H6', 'S8', 'H9', 'C9', 'H10', 'C6']}, {'hand': ['H8', 'C8', 'H7', 'DA', 'CK', 'C7', 'D9', 'HQ', 'D6']}], 'jassTyp': 'SCHIEBER_2500'}\n"
     ]
    }
   ],
   "source": [
    "log_generator.generate()"
   ]
  },
  {
   "cell_type": "markdown",
   "metadata": {},
   "source": [
    "## Convert folder to cheating"
   ]
  },
  {
   "cell_type": "code",
   "execution_count": 23,
   "metadata": {},
   "outputs": [],
   "source": [
    "source_path = \"./folder_swisslos_logs/\"\n",
    "destination_path = \"results/\"\n",
    "search_directory = True\n",
    "search_recursively = False\n",
    "create_cheating_logs = True"
   ]
  },
  {
   "cell_type": "code",
   "execution_count": 24,
   "metadata": {},
   "outputs": [],
   "source": [
    "log_generator = PlayerRoundLogGenerator(source_path, destination_path, search_directory,\n",
    "                                     search_recursively, create_cheating_logs)"
   ]
  },
  {
   "cell_type": "code",
   "execution_count": 25,
   "metadata": {},
   "outputs": [
    {
     "name": "stderr",
     "output_type": "stream",
     "text": [
      "Warning: no trump found in entry: {'dealer': 3, 'tricks': [], 'player': [{'hand': ['DJ', 'D7', 'DQ', 'HJ', 'S6', 'S10', 'CA', 'D10', 'S7']}, {'hand': ['SK', 'SJ', 'S9', 'CQ', 'SQ', 'HA', 'D8', 'CJ', 'HK']}, {'hand': ['SA', 'C10', 'DK', 'H6', 'S8', 'H9', 'C9', 'H10', 'C6']}, {'hand': ['H8', 'C8', 'H7', 'DA', 'CK', 'C7', 'D9', 'HQ', 'D6']}], 'jassTyp': 'SCHIEBER_2500'}\n"
     ]
    },
    {
     "name": "stdout",
     "output_type": "stream",
     "text": [
      "###################################################################################\n",
      "converting file C:\\Users\\Cyrille\\Documents\\abiz\\jass-kit\\tools\\./folder_swisslos_logs\\small_log.txt (1/3)\n",
      "###################################################################################\n"
     ]
    },
    {
     "name": "stderr",
     "output_type": "stream",
     "text": [
      "Warning: no trump found in entry: {'dealer': 3, 'tricks': [], 'player': [{'hand': ['DJ', 'D7', 'DQ', 'HJ', 'S6', 'S10', 'CA', 'D10', 'S7']}, {'hand': ['SK', 'SJ', 'S9', 'CQ', 'SQ', 'HA', 'D8', 'CJ', 'HK']}, {'hand': ['SA', 'C10', 'DK', 'H6', 'S8', 'H9', 'C9', 'H10', 'C6']}, {'hand': ['H8', 'C8', 'H7', 'DA', 'CK', 'C7', 'D9', 'HQ', 'D6']}], 'jassTyp': 'SCHIEBER_2500'}\n"
     ]
    },
    {
     "name": "stdout",
     "output_type": "stream",
     "text": [
      "###################################################################################\n",
      "converting file C:\\Users\\Cyrille\\Documents\\abiz\\jass-kit\\tools\\./folder_swisslos_logs\\small_log2.txt (2/3)\n",
      "###################################################################################\n"
     ]
    },
    {
     "name": "stderr",
     "output_type": "stream",
     "text": [
      "Warning: no trump found in entry: {'dealer': 3, 'tricks': [], 'player': [{'hand': ['DJ', 'D7', 'DQ', 'HJ', 'S6', 'S10', 'CA', 'D10', 'S7']}, {'hand': ['SK', 'SJ', 'S9', 'CQ', 'SQ', 'HA', 'D8', 'CJ', 'HK']}, {'hand': ['SA', 'C10', 'DK', 'H6', 'S8', 'H9', 'C9', 'H10', 'C6']}, {'hand': ['H8', 'C8', 'H7', 'DA', 'CK', 'C7', 'D9', 'HQ', 'D6']}], 'jassTyp': 'SCHIEBER_2500'}\n"
     ]
    },
    {
     "name": "stdout",
     "output_type": "stream",
     "text": [
      "###################################################################################\n",
      "converting file C:\\Users\\Cyrille\\Documents\\abiz\\jass-kit\\tools\\./folder_swisslos_logs\\small_log3.txt (3/3)\n",
      "###################################################################################\n"
     ]
    }
   ],
   "source": [
    "log_generator.generate()"
   ]
  },
  {
   "cell_type": "code",
   "execution_count": null,
   "metadata": {},
   "outputs": [],
   "source": []
  }
 ],
 "metadata": {
  "kernelspec": {
   "display_name": "Python 3",
   "language": "python",
   "name": "python3"
  },
  "language_info": {
   "codemirror_mode": {
    "name": "ipython",
    "version": 3
   },
   "file_extension": ".py",
   "mimetype": "text/x-python",
   "name": "python",
   "nbconvert_exporter": "python",
   "pygments_lexer": "ipython3",
   "version": "3.6.4"
  }
 },
 "nbformat": 4,
 "nbformat_minor": 2
}
