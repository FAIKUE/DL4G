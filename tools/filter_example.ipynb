{
 "cells": [
  {
   "cell_type": "code",
   "execution_count": 1,
   "metadata": {},
   "outputs": [],
   "source": [
    "from player_id_filter import *\n",
    "# imported filters: PlayerIdFilter, FilterMeanAbsolute, FilterStdAbsolute, FilterPlayedGamesAbsolute, \n",
    "# FilterStdRelative, FilterMeanRelative, FilterPlayedGamesRelative\n",
    "\n",
    "from player_round_log_filter import PlayerRoundLogFilter"
   ]
  },
  {
   "cell_type": "code",
   "execution_count": 2,
   "metadata": {},
   "outputs": [],
   "source": [
    "stat_file_path = './player_all_stat.json'\n",
    "output_directory = './results/'\n",
    "src = 'player_logs.txt'\n"
   ]
  },
  {
   "cell_type": "code",
   "execution_count": 3,
   "metadata": {},
   "outputs": [],
   "source": [
    "# Initialize existing filters\n",
    "std_filter = FilterStdRelative(0.7) # returns best 30%\n",
    "mean_filter = FilterMeanAbsolute(80) # returns players with more mean points than 80\n"
   ]
  },
  {
   "cell_type": "code",
   "execution_count": 4,
   "metadata": {},
   "outputs": [],
   "source": [
    "# Create your own filter\n",
    "class filter_remove_player_0(PlayerIdFilter):\n",
    "    def __init__(self) -> None:\n",
    "        super().__init__()\n",
    "        \n",
    "    def filter(self) -> [int]:\n",
    "        filtered = self.data[self.data['id'] != 0]\n",
    "        return filtered['id']"
   ]
  },
  {
   "cell_type": "code",
   "execution_count": 5,
   "metadata": {},
   "outputs": [],
   "source": [
    "# Initialize filter container\n",
    "combined_filter = PlayerStatFilter(stat_file_path)\n",
    "\n",
    "# Add filters\n",
    "combined_filter.add_filter(std_filter)\n",
    "combined_filter.add_filter(mean_filter)\n",
    "combined_filter.add_filter(filter_remove_player_0())"
   ]
  },
  {
   "cell_type": "code",
   "execution_count": 6,
   "metadata": {},
   "outputs": [
    {
     "name": "stdout",
     "output_type": "stream",
     "text": [
      "###################################################################################\n",
      "Evaluates player ids to keep if this filter is used\n",
      "NOTE: No file has been filtered yet. To use the filter, call the method 'filter'\n",
      "###################################################################################\n",
      "Players befor filter: 3435\n",
      "Players after 1 filter(s): 1031\n",
      "Players after 2 filter(s): 303\n",
      "Players after 3 filter(s): 303\n"
     ]
    }
   ],
   "source": [
    "log_filter = PlayerRoundLogFilter(source=src, destination=output_directory, player_filter=combined_filter,\n",
    "                                      directory=False, recursive=False)"
   ]
  },
  {
   "cell_type": "code",
   "execution_count": 7,
   "metadata": {},
   "outputs": [
    {
     "name": "stdout",
     "output_type": "stream",
     "text": [
      "###################################################################################\n",
      "Started filtering\n",
      "Finished filtering\n",
      "###################################################################################\n"
     ]
    }
   ],
   "source": [
    "log_filter.filter()"
   ]
  },
  {
   "cell_type": "code",
   "execution_count": null,
   "metadata": {},
   "outputs": [],
   "source": []
  }
 ],
 "metadata": {
  "kernelspec": {
   "display_name": "Python 3",
   "language": "python",
   "name": "python3"
  },
  "language_info": {
   "codemirror_mode": {
    "name": "ipython",
    "version": 3
   },
   "file_extension": ".py",
   "mimetype": "text/x-python",
   "name": "python",
   "nbconvert_exporter": "python",
   "pygments_lexer": "ipython3",
   "version": "3.6.4"
  }
 },
 "nbformat": 4,
 "nbformat_minor": 2
}
